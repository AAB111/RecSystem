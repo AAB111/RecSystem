{
 "cells": [
  {
   "cell_type": "code",
   "execution_count": 133,
   "id": "7a21961f-f7a4-496d-ba1c-cbf349fe1538",
   "metadata": {},
   "outputs": [],
   "source": [
    "import pandas as pd\n",
    "from ast import literal_eval"
   ]
  },
  {
   "cell_type": "markdown",
   "id": "4f19d39f-b9a4-4708-9979-2c5c67af0d33",
   "metadata": {},
   "source": [
    "# Transform Keywords"
   ]
  },
  {
   "cell_type": "code",
   "execution_count": 188,
   "id": "dfe8db30-29fe-4e01-b59d-45d903888d08",
   "metadata": {},
   "outputs": [],
   "source": [
    "data = pd.read_csv('../data/keywords.csv')\n",
    "data.dropna(how='all',inplace=True)\n",
    "data.rename(columns={'id':'id_movie'},inplace=True)"
   ]
  },
  {
   "cell_type": "code",
   "execution_count": 189,
   "id": "708b326c-865e-4aee-a55b-4652f81ff575",
   "metadata": {},
   "outputs": [],
   "source": [
    "data['keywords'] = data['keywords'].apply(lambda x: literal_eval(x))\n",
    "new_data = data.explode('keywords').reset_index(drop=True)\n",
    "new_data.dropna(inplace=True)\n",
    "new_data['id_keyword'] = new_data['keywords'].apply(lambda x: x['id'])\n",
    "new_data['name'] = new_data['keywords'].apply(lambda x: x['name'])\n",
    "new_data[['id_movie','id_keyword']].to_csv('../data_db/keywordMovie.csv',index=False)\n",
    "keyword = new_data[['id_keyword','name']].drop_duplicates()\n",
    "keyword.to_csv('../data_db/keyword.csv',index=False)"
   ]
  },
  {
   "cell_type": "markdown",
   "id": "539d0d8e-f569-44ce-a716-aef72b0ec373",
   "metadata": {},
   "source": [
    "# Transform Credits"
   ]
  },
  {
   "cell_type": "code",
   "execution_count": 144,
   "id": "64493f53-c91a-46a4-9c2a-10ea577bc891",
   "metadata": {},
   "outputs": [],
   "source": [
    "data = pd.read_csv('../data/credits.csv')\n",
    "data.dropna(how='all',inplace=True)\n",
    "data.rename(columns={'id':'id_movie'},inplace=True)"
   ]
  },
  {
   "cell_type": "code",
   "execution_count": null,
   "id": "a519588b-efb4-4462-bb4e-f6b20646f3be",
   "metadata": {},
   "outputs": [],
   "source": [
    "data.head()"
   ]
  }
 ],
 "metadata": {
  "kernelspec": {
   "display_name": "Python 3 (ipykernel)",
   "language": "python",
   "name": "python3"
  },
  "language_info": {
   "codemirror_mode": {
    "name": "ipython",
    "version": 3
   },
   "file_extension": ".py",
   "mimetype": "text/x-python",
   "name": "python",
   "nbconvert_exporter": "python",
   "pygments_lexer": "ipython3",
   "version": "3.12.2"
  }
 },
 "nbformat": 4,
 "nbformat_minor": 5
}
